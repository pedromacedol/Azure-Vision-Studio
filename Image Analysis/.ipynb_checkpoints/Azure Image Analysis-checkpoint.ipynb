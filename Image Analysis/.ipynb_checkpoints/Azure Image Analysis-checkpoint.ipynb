{
 "cells": [
  {
   "cell_type": "markdown",
   "id": "edcd751a",
   "metadata": {},
   "source": [
    "# Azure - Image Analysis"
   ]
  },
  {
   "cell_type": "markdown",
   "id": "518237d4",
   "metadata": {},
   "source": [
    "### Introdução\n",
    "\n",
    "O Azure Image Analysis permite analisar o contexto presente na imagem. Para isso, são utilizadas redes neurais convolucionais para determinar a similaridade de objetos, cores, cenários, etc. Desse modo, permite a rotulação e a classificação das imagens.\n",
    "\n",
    "Algumas aplicações interessantes são a identificação geográfica da imagem, detecção de modelos de carros, entre outros.\n",
    "\n",
    "Para mais informações consulte a documentação e o guia de introdução:\n",
    "- https://learn.microsoft.com/en-us/azure/ai-services/computer-vision/overview-image-analysis?tabs=4-0\n",
    "- https://microsoftlearning.github.io/mslearn-ai-fundamentals/Instructions/Labs/03-image-analysis.html\n",
    "- https://learn.microsoft.com/en-us/training/modules/analyze-images-computer-vision/2b-computer-vision-models\n"
   ]
  },
  {
   "cell_type": "markdown",
   "id": "d1f8a00e",
   "metadata": {},
   "source": [
    "### Input\n",
    "\n",
    "A imagem abaixo foi utilizado para o teste da ferramenta:\n",
    "\n",
    "![Homem andando na calçada]()"
   ]
  },
  {
   "cell_type": "markdown",
   "id": "cb9f478d",
   "metadata": {},
   "source": [
    "### Output\n",
    "\n",
    "Com o processamento da imagem e análise utilizando a opção \"Add dense captions to images\", conseguimos os seguintes resultados e parâmetros:\n",
    "\n",
    "- A man walking in front of a colorful wall\n",
    "- A man walking with a backpack\n",
    "- A close up of a person's feet"
   ]
  },
  {
   "cell_type": "code",
   "execution_count": null,
   "id": "ac9d71cc",
   "metadata": {},
   "outputs": [],
   "source": [
    "{\n",
    "  \"apim-request-id\": \"50e40653-7106-47c7-b11b-1c0fb5f09c1c\",\n",
    "  \"content-length\": \"466\",\n",
    "  \"content-type\": \"application/json; charset=utf-8\",\n",
    "  \"modelVersion\": \"2023-10-01\",\n",
    "  \"denseCaptionsResult\": {\n",
    "    \"values\": [\n",
    "      {\n",
    "        \"text\": \"a man walking in front of a colorful wall\",\n",
    "        \"confidence\": 0.8091899752616882,\n",
    "        \"boundingBox\": {\n",
    "          \"x\": 0,\n",
    "          \"y\": 0,\n",
    "          \"w\": 200,\n",
    "          \"h\": 200\n",
    "        }\n",
    "      },\n",
    "      {\n",
    "        \"text\": \"a man walking with a backpack\",\n",
    "        \"confidence\": 0.7670713067054749,\n",
    "        \"boundingBox\": {\n",
    "          \"x\": 0,\n",
    "          \"y\": 68,\n",
    "          \"w\": 200,\n",
    "          \"h\": 63\n",
    "        }\n",
    "      },\n",
    "      {\n",
    "        \"text\": \"a close up of a person's feet\",\n",
    "        \"confidence\": 0.8031923770904541,\n",
    "        \"boundingBox\": {\n",
    "          \"x\": 0,\n",
    "          \"y\": 146,\n",
    "          \"w\": 198,\n",
    "          \"h\": 51\n",
    "        }\n",
    "      }\n",
    "    ]\n",
    "  },\n",
    "  \"metadata\": {\n",
    "    \"width\": 200,\n",
    "    \"height\": 200\n",
    "  }\n",
    "}"
   ]
  }
 ],
 "metadata": {
  "kernelspec": {
   "display_name": "Python 3 (ipykernel)",
   "language": "python",
   "name": "python3"
  },
  "language_info": {
   "codemirror_mode": {
    "name": "ipython",
    "version": 3
   },
   "file_extension": ".py",
   "mimetype": "text/x-python",
   "name": "python",
   "nbconvert_exporter": "python",
   "pygments_lexer": "ipython3",
   "version": "3.11.5"
  }
 },
 "nbformat": 4,
 "nbformat_minor": 5
}
